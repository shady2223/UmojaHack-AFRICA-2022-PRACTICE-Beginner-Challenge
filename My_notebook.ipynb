{
  "nbformat": 4,
  "nbformat_minor": 0,
  "metadata": {
    "colab": {
      "name": "My_notebook.ipynb",
      "provenance": [],
      "collapsed_sections": [],
      "authorship_tag": "ABX9TyOlehYzQGjrAbjNw1CtK8J+",
      "include_colab_link": true
    },
    "kernelspec": {
      "name": "python3",
      "display_name": "Python 3"
    },
    "language_info": {
      "name": "python"
    }
  },
  "cells": [
    {
      "cell_type": "markdown",
      "metadata": {
        "id": "view-in-github",
        "colab_type": "text"
      },
      "source": [
        "<a href=\"https://colab.research.google.com/github/shady2223/UmojaHack-AFRICA-2022-PRACTICE-Beginner-Challenge/blob/main/My_notebook.ipynb\" target=\"_parent\"><img src=\"https://colab.research.google.com/assets/colab-badge.svg\" alt=\"Open In Colab\"/></a>"
      ]
    },
    {
      "cell_type": "markdown",
      "source": [
        "# Importing important modules"
      ],
      "metadata": {
        "id": "YEuw-97zNXdb"
      }
    },
    {
      "cell_type": "code",
      "execution_count": 15,
      "metadata": {
        "id": "fkPK8HlGBjD-"
      },
      "outputs": [],
      "source": [
        "import pandas as pd\n",
        "import numpy as np\n",
        "import matplotlib.pyplot as plt\n",
        "%matplotlib inline\n",
        "import seaborn as sns\n",
        "np.random.seed(42)\n",
        "\n",
        "from lightgbm import LGBMRegressor\n",
        "from sklearn.model_selection import KFold,StratifiedKFold ,GroupKFold\n",
        "from sklearn.metrics import mean_squared_error\n",
        "from sklearn.model_selection import train_test_split\n",
        "from sklearn.model_selection import cross_val_score\n",
        "from sklearn.preprocessing import StandardScaler\n",
        "from sklearn.preprocessing import RobustScaler\n",
        "from sklearn.ensemble import RandomForestRegressor\n",
        "from sklearn.metrics import mean_squared_error\n",
        "from sklearn.model_selection import StratifiedKFold\n",
        "\n",
        "import warnings\n",
        "warnings.filterwarnings('ignore')"
      ]
    },
    {
      "cell_type": "code",
      "source": [
        "from google.colab import drive\n",
        "drive.mount('/content/drive')"
      ],
      "metadata": {
        "colab": {
          "base_uri": "https://localhost:8080/"
        },
        "id": "Agka2q8hB1yU",
        "outputId": "8f79d9b4-420c-46db-a1f2-1cb6dcc585ba"
      },
      "execution_count": 2,
      "outputs": [
        {
          "output_type": "stream",
          "name": "stdout",
          "text": [
            "Mounted at /content/drive\n"
          ]
        }
      ]
    },
    {
      "cell_type": "markdown",
      "source": [
        "# VARIABLE DIFINITION\n",
        "* ghsl_water_surface' - the fraction of land within 5km of the cluster that is classified as water surface\n",
        "* 'ghsl_built_pre_1975' - the fraction of land within 5km of the cluster that is classified as built-up before 1975\n",
        "* 'ghsl_built_1975_to_1990'\n",
        "* 'ghsl_built_1990_to_2000',\n",
        "* 'ghsl_built_2000_to_2014',\n",
        "* 'ghsl_not_built_up' - land that was never built up\n",
        "* 'ghsl_pop_density' - population density for the surrounding area (5km radius)\n",
        "* Landcover: based on the Copernicus Global Land Cover Layers (https://developers.google.com/earth-engine/datasets/catalog/COPERNICUS_Landcover_100m_Proba-V-C3_Global)\n",
        "\n",
        "* 'Landcover_crops_fraction' - the fraction of land within 5km of the cluster that is classified as cropland\n",
        "* 'landcover_urban_fraction' - the fraction of land within 5km of the cluster that is classified as urban\n",
        "* 'Landcover_water_permanent_10km_fraction' - the fraction of land within 10km of the cluster that is classified as permanent water\n",
        "* 'Landcover_water_seasonal_10km_fraction' - the fraction of land within 10km of the cluster that is classified as seasonal water\n",
        "* 'Nighttime_lights' - a classic indicator of economic activity\n",
        "* 'Dist_to_capital' - distance to the countries capital\n",
        "* 'Dist_to_shoreline - distance to the nearest ocean shoreline\n",
        "* ‘urban_or_rural’: Is the cluster in an urban (‘U’) or rural (‘R’) setting"
      ],
      "metadata": {
        "id": "GvxmF3sxDCrO"
      }
    },
    {
      "cell_type": "markdown",
      "source": [
        "loading th data"
      ],
      "metadata": {
        "id": "ITJk0AM6B_AU"
      }
    },
    {
      "cell_type": "code",
      "source": [
        "train=pd.read_csv('drive/MyDrive/MACHINE LEARNING PROJECTS/economic-well-being-prediction-competition/Train.csv')\n",
        "test=pd.read_csv('drive/MyDrive/MACHINE LEARNING PROJECTS/economic-well-being-prediction-competition/Test.csv')"
      ],
      "metadata": {
        "id": "Cj__0cTNCBk0"
      },
      "execution_count": 3,
      "outputs": []
    },
    {
      "cell_type": "code",
      "source": [
        "train.head()"
      ],
      "metadata": {
        "colab": {
          "base_uri": "https://localhost:8080/",
          "height": 270
        },
        "id": "K1mLmJp5CwYF",
        "outputId": "edcb02e6-0ae2-43af-a1d1-4cf568fdba34"
      },
      "execution_count": 4,
      "outputs": [
        {
          "output_type": "execute_result",
          "data": {
            "text/plain": [
              "            ID     country  year urban_or_rural  ghsl_water_surface  \\\n",
              "0  ID_AAIethGy    Ethiopia  2016              R                 0.0   \n",
              "1  ID_AAYiaCeL    Ethiopia  2005              R                 0.0   \n",
              "2  ID_AAdurmKj  Mozambique  2009              R                 0.0   \n",
              "3  ID_AAgNHles      Malawi  2015              R                 0.0   \n",
              "4  ID_AAishfND      Guinea  2012              U                 0.0   \n",
              "\n",
              "   ghsl_built_pre_1975  ghsl_built_1975_to_1990  ghsl_built_1990_to_2000  \\\n",
              "0             0.000000                 0.000000                 0.000055   \n",
              "1             0.000000                 0.000110                 0.000000   \n",
              "2             0.000000                 0.000000                 0.000000   \n",
              "3             0.000141                 0.000181                 0.000254   \n",
              "4             0.011649                 0.017560                 0.017383   \n",
              "\n",
              "   ghsl_built_2000_to_2014  ghsl_not_built_up  ghsl_pop_density  \\\n",
              "0                 0.000536           0.999408         12.146134   \n",
              "1                 0.000018           0.999872        113.806716   \n",
              "2                 0.000000           1.000000          0.000000   \n",
              "3                 0.000228           0.999195          5.213320   \n",
              "4                 0.099875           0.853533         31.734661   \n",
              "\n",
              "   landcover_crops_fraction  landcover_urban_fraction  \\\n",
              "0                 25.489659                  0.879484   \n",
              "1                 64.136053                  0.601427   \n",
              "2                  4.400096                  0.131900   \n",
              "3                 25.379371                  2.017136   \n",
              "4                  5.081620                 22.815984   \n",
              "\n",
              "   landcover_water_permanent_10km_fraction  \\\n",
              "0                                 0.000000   \n",
              "1                                 0.000000   \n",
              "2                                 0.000000   \n",
              "3                                11.293841   \n",
              "4                                 0.005047   \n",
              "\n",
              "   landcover_water_seasonal_10km_fraction  nighttime_lights  dist_to_capital  \\\n",
              "0                                0.000000          0.000000       278.788451   \n",
              "1                                0.005427          0.000000       200.986978   \n",
              "2                                0.003078          0.000000       642.594208   \n",
              "3                                0.131035          0.000000       365.349451   \n",
              "4                                0.130475          1.461894       222.867189   \n",
              "\n",
              "   dist_to_shoreline    Target  \n",
              "0         769.338378  0.132783  \n",
              "1         337.135243  0.004898  \n",
              "2         169.913773  0.097320  \n",
              "3         613.591610  0.304107  \n",
              "4         192.926363  0.605328  "
            ],
            "text/html": [
              "\n",
              "  <div id=\"df-3c48672f-280b-4dfc-a2ab-03ed93645d54\">\n",
              "    <div class=\"colab-df-container\">\n",
              "      <div>\n",
              "<style scoped>\n",
              "    .dataframe tbody tr th:only-of-type {\n",
              "        vertical-align: middle;\n",
              "    }\n",
              "\n",
              "    .dataframe tbody tr th {\n",
              "        vertical-align: top;\n",
              "    }\n",
              "\n",
              "    .dataframe thead th {\n",
              "        text-align: right;\n",
              "    }\n",
              "</style>\n",
              "<table border=\"1\" class=\"dataframe\">\n",
              "  <thead>\n",
              "    <tr style=\"text-align: right;\">\n",
              "      <th></th>\n",
              "      <th>ID</th>\n",
              "      <th>country</th>\n",
              "      <th>year</th>\n",
              "      <th>urban_or_rural</th>\n",
              "      <th>ghsl_water_surface</th>\n",
              "      <th>ghsl_built_pre_1975</th>\n",
              "      <th>ghsl_built_1975_to_1990</th>\n",
              "      <th>ghsl_built_1990_to_2000</th>\n",
              "      <th>ghsl_built_2000_to_2014</th>\n",
              "      <th>ghsl_not_built_up</th>\n",
              "      <th>ghsl_pop_density</th>\n",
              "      <th>landcover_crops_fraction</th>\n",
              "      <th>landcover_urban_fraction</th>\n",
              "      <th>landcover_water_permanent_10km_fraction</th>\n",
              "      <th>landcover_water_seasonal_10km_fraction</th>\n",
              "      <th>nighttime_lights</th>\n",
              "      <th>dist_to_capital</th>\n",
              "      <th>dist_to_shoreline</th>\n",
              "      <th>Target</th>\n",
              "    </tr>\n",
              "  </thead>\n",
              "  <tbody>\n",
              "    <tr>\n",
              "      <th>0</th>\n",
              "      <td>ID_AAIethGy</td>\n",
              "      <td>Ethiopia</td>\n",
              "      <td>2016</td>\n",
              "      <td>R</td>\n",
              "      <td>0.0</td>\n",
              "      <td>0.000000</td>\n",
              "      <td>0.000000</td>\n",
              "      <td>0.000055</td>\n",
              "      <td>0.000536</td>\n",
              "      <td>0.999408</td>\n",
              "      <td>12.146134</td>\n",
              "      <td>25.489659</td>\n",
              "      <td>0.879484</td>\n",
              "      <td>0.000000</td>\n",
              "      <td>0.000000</td>\n",
              "      <td>0.000000</td>\n",
              "      <td>278.788451</td>\n",
              "      <td>769.338378</td>\n",
              "      <td>0.132783</td>\n",
              "    </tr>\n",
              "    <tr>\n",
              "      <th>1</th>\n",
              "      <td>ID_AAYiaCeL</td>\n",
              "      <td>Ethiopia</td>\n",
              "      <td>2005</td>\n",
              "      <td>R</td>\n",
              "      <td>0.0</td>\n",
              "      <td>0.000000</td>\n",
              "      <td>0.000110</td>\n",
              "      <td>0.000000</td>\n",
              "      <td>0.000018</td>\n",
              "      <td>0.999872</td>\n",
              "      <td>113.806716</td>\n",
              "      <td>64.136053</td>\n",
              "      <td>0.601427</td>\n",
              "      <td>0.000000</td>\n",
              "      <td>0.005427</td>\n",
              "      <td>0.000000</td>\n",
              "      <td>200.986978</td>\n",
              "      <td>337.135243</td>\n",
              "      <td>0.004898</td>\n",
              "    </tr>\n",
              "    <tr>\n",
              "      <th>2</th>\n",
              "      <td>ID_AAdurmKj</td>\n",
              "      <td>Mozambique</td>\n",
              "      <td>2009</td>\n",
              "      <td>R</td>\n",
              "      <td>0.0</td>\n",
              "      <td>0.000000</td>\n",
              "      <td>0.000000</td>\n",
              "      <td>0.000000</td>\n",
              "      <td>0.000000</td>\n",
              "      <td>1.000000</td>\n",
              "      <td>0.000000</td>\n",
              "      <td>4.400096</td>\n",
              "      <td>0.131900</td>\n",
              "      <td>0.000000</td>\n",
              "      <td>0.003078</td>\n",
              "      <td>0.000000</td>\n",
              "      <td>642.594208</td>\n",
              "      <td>169.913773</td>\n",
              "      <td>0.097320</td>\n",
              "    </tr>\n",
              "    <tr>\n",
              "      <th>3</th>\n",
              "      <td>ID_AAgNHles</td>\n",
              "      <td>Malawi</td>\n",
              "      <td>2015</td>\n",
              "      <td>R</td>\n",
              "      <td>0.0</td>\n",
              "      <td>0.000141</td>\n",
              "      <td>0.000181</td>\n",
              "      <td>0.000254</td>\n",
              "      <td>0.000228</td>\n",
              "      <td>0.999195</td>\n",
              "      <td>5.213320</td>\n",
              "      <td>25.379371</td>\n",
              "      <td>2.017136</td>\n",
              "      <td>11.293841</td>\n",
              "      <td>0.131035</td>\n",
              "      <td>0.000000</td>\n",
              "      <td>365.349451</td>\n",
              "      <td>613.591610</td>\n",
              "      <td>0.304107</td>\n",
              "    </tr>\n",
              "    <tr>\n",
              "      <th>4</th>\n",
              "      <td>ID_AAishfND</td>\n",
              "      <td>Guinea</td>\n",
              "      <td>2012</td>\n",
              "      <td>U</td>\n",
              "      <td>0.0</td>\n",
              "      <td>0.011649</td>\n",
              "      <td>0.017560</td>\n",
              "      <td>0.017383</td>\n",
              "      <td>0.099875</td>\n",
              "      <td>0.853533</td>\n",
              "      <td>31.734661</td>\n",
              "      <td>5.081620</td>\n",
              "      <td>22.815984</td>\n",
              "      <td>0.005047</td>\n",
              "      <td>0.130475</td>\n",
              "      <td>1.461894</td>\n",
              "      <td>222.867189</td>\n",
              "      <td>192.926363</td>\n",
              "      <td>0.605328</td>\n",
              "    </tr>\n",
              "  </tbody>\n",
              "</table>\n",
              "</div>\n",
              "      <button class=\"colab-df-convert\" onclick=\"convertToInteractive('df-3c48672f-280b-4dfc-a2ab-03ed93645d54')\"\n",
              "              title=\"Convert this dataframe to an interactive table.\"\n",
              "              style=\"display:none;\">\n",
              "        \n",
              "  <svg xmlns=\"http://www.w3.org/2000/svg\" height=\"24px\"viewBox=\"0 0 24 24\"\n",
              "       width=\"24px\">\n",
              "    <path d=\"M0 0h24v24H0V0z\" fill=\"none\"/>\n",
              "    <path d=\"M18.56 5.44l.94 2.06.94-2.06 2.06-.94-2.06-.94-.94-2.06-.94 2.06-2.06.94zm-11 1L8.5 8.5l.94-2.06 2.06-.94-2.06-.94L8.5 2.5l-.94 2.06-2.06.94zm10 10l.94 2.06.94-2.06 2.06-.94-2.06-.94-.94-2.06-.94 2.06-2.06.94z\"/><path d=\"M17.41 7.96l-1.37-1.37c-.4-.4-.92-.59-1.43-.59-.52 0-1.04.2-1.43.59L10.3 9.45l-7.72 7.72c-.78.78-.78 2.05 0 2.83L4 21.41c.39.39.9.59 1.41.59.51 0 1.02-.2 1.41-.59l7.78-7.78 2.81-2.81c.8-.78.8-2.07 0-2.86zM5.41 20L4 18.59l7.72-7.72 1.47 1.35L5.41 20z\"/>\n",
              "  </svg>\n",
              "      </button>\n",
              "      \n",
              "  <style>\n",
              "    .colab-df-container {\n",
              "      display:flex;\n",
              "      flex-wrap:wrap;\n",
              "      gap: 12px;\n",
              "    }\n",
              "\n",
              "    .colab-df-convert {\n",
              "      background-color: #E8F0FE;\n",
              "      border: none;\n",
              "      border-radius: 50%;\n",
              "      cursor: pointer;\n",
              "      display: none;\n",
              "      fill: #1967D2;\n",
              "      height: 32px;\n",
              "      padding: 0 0 0 0;\n",
              "      width: 32px;\n",
              "    }\n",
              "\n",
              "    .colab-df-convert:hover {\n",
              "      background-color: #E2EBFA;\n",
              "      box-shadow: 0px 1px 2px rgba(60, 64, 67, 0.3), 0px 1px 3px 1px rgba(60, 64, 67, 0.15);\n",
              "      fill: #174EA6;\n",
              "    }\n",
              "\n",
              "    [theme=dark] .colab-df-convert {\n",
              "      background-color: #3B4455;\n",
              "      fill: #D2E3FC;\n",
              "    }\n",
              "\n",
              "    [theme=dark] .colab-df-convert:hover {\n",
              "      background-color: #434B5C;\n",
              "      box-shadow: 0px 1px 3px 1px rgba(0, 0, 0, 0.15);\n",
              "      filter: drop-shadow(0px 1px 2px rgba(0, 0, 0, 0.3));\n",
              "      fill: #FFFFFF;\n",
              "    }\n",
              "  </style>\n",
              "\n",
              "      <script>\n",
              "        const buttonEl =\n",
              "          document.querySelector('#df-3c48672f-280b-4dfc-a2ab-03ed93645d54 button.colab-df-convert');\n",
              "        buttonEl.style.display =\n",
              "          google.colab.kernel.accessAllowed ? 'block' : 'none';\n",
              "\n",
              "        async function convertToInteractive(key) {\n",
              "          const element = document.querySelector('#df-3c48672f-280b-4dfc-a2ab-03ed93645d54');\n",
              "          const dataTable =\n",
              "            await google.colab.kernel.invokeFunction('convertToInteractive',\n",
              "                                                     [key], {});\n",
              "          if (!dataTable) return;\n",
              "\n",
              "          const docLinkHtml = 'Like what you see? Visit the ' +\n",
              "            '<a target=\"_blank\" href=https://colab.research.google.com/notebooks/data_table.ipynb>data table notebook</a>'\n",
              "            + ' to learn more about interactive tables.';\n",
              "          element.innerHTML = '';\n",
              "          dataTable['output_type'] = 'display_data';\n",
              "          await google.colab.output.renderOutput(dataTable, element);\n",
              "          const docLink = document.createElement('div');\n",
              "          docLink.innerHTML = docLinkHtml;\n",
              "          element.appendChild(docLink);\n",
              "        }\n",
              "      </script>\n",
              "    </div>\n",
              "  </div>\n",
              "  "
            ]
          },
          "metadata": {},
          "execution_count": 4
        }
      ]
    },
    {
      "cell_type": "code",
      "source": [
        "print(train.shape)\n",
        "print(test.shape)"
      ],
      "metadata": {
        "colab": {
          "base_uri": "https://localhost:8080/"
        },
        "id": "FnXlTnnQJDCT",
        "outputId": "e65c35b4-32db-4159-b05c-c3db6bb3c27f"
      },
      "execution_count": 5,
      "outputs": [
        {
          "output_type": "stream",
          "name": "stdout",
          "text": [
            "(21454, 19)\n",
            "(7194, 18)\n"
          ]
        }
      ]
    },
    {
      "cell_type": "code",
      "source": [
        "train.info()"
      ],
      "metadata": {
        "colab": {
          "base_uri": "https://localhost:8080/"
        },
        "id": "HZwV3pmkJJSc",
        "outputId": "c2df0567-b0d2-41fb-b837-b027c11fb1ee"
      },
      "execution_count": 6,
      "outputs": [
        {
          "output_type": "stream",
          "name": "stdout",
          "text": [
            "<class 'pandas.core.frame.DataFrame'>\n",
            "RangeIndex: 21454 entries, 0 to 21453\n",
            "Data columns (total 19 columns):\n",
            " #   Column                                   Non-Null Count  Dtype  \n",
            "---  ------                                   --------------  -----  \n",
            " 0   ID                                       21454 non-null  object \n",
            " 1   country                                  21454 non-null  object \n",
            " 2   year                                     21454 non-null  int64  \n",
            " 3   urban_or_rural                           21454 non-null  object \n",
            " 4   ghsl_water_surface                       21454 non-null  float64\n",
            " 5   ghsl_built_pre_1975                      21454 non-null  float64\n",
            " 6   ghsl_built_1975_to_1990                  21454 non-null  float64\n",
            " 7   ghsl_built_1990_to_2000                  21454 non-null  float64\n",
            " 8   ghsl_built_2000_to_2014                  21454 non-null  float64\n",
            " 9   ghsl_not_built_up                        21454 non-null  float64\n",
            " 10  ghsl_pop_density                         21454 non-null  float64\n",
            " 11  landcover_crops_fraction                 21454 non-null  float64\n",
            " 12  landcover_urban_fraction                 21454 non-null  float64\n",
            " 13  landcover_water_permanent_10km_fraction  21454 non-null  float64\n",
            " 14  landcover_water_seasonal_10km_fraction   21454 non-null  float64\n",
            " 15  nighttime_lights                         21454 non-null  float64\n",
            " 16  dist_to_capital                          21454 non-null  float64\n",
            " 17  dist_to_shoreline                        21454 non-null  float64\n",
            " 18  Target                                   21454 non-null  float64\n",
            "dtypes: float64(15), int64(1), object(3)\n",
            "memory usage: 3.1+ MB\n"
          ]
        }
      ]
    },
    {
      "cell_type": "markdown",
      "source": [
        "From above you can see that the following columns where not a numerical columns 'ID, country,urban_or_rurla ' and the remaining columns where numeric"
      ],
      "metadata": {
        "id": "-RCU_2NRJP-Y"
      }
    },
    {
      "cell_type": "code",
      "source": [
        "#checking for null values in the datasets\n",
        "train.isnull().sum()"
      ],
      "metadata": {
        "colab": {
          "base_uri": "https://localhost:8080/"
        },
        "id": "AHKbOsSNJteE",
        "outputId": "6dfd601a-7777-43ec-fe12-4e0e3940ee5e"
      },
      "execution_count": 7,
      "outputs": [
        {
          "output_type": "execute_result",
          "data": {
            "text/plain": [
              "ID                                         0\n",
              "country                                    0\n",
              "year                                       0\n",
              "urban_or_rural                             0\n",
              "ghsl_water_surface                         0\n",
              "ghsl_built_pre_1975                        0\n",
              "ghsl_built_1975_to_1990                    0\n",
              "ghsl_built_1990_to_2000                    0\n",
              "ghsl_built_2000_to_2014                    0\n",
              "ghsl_not_built_up                          0\n",
              "ghsl_pop_density                           0\n",
              "landcover_crops_fraction                   0\n",
              "landcover_urban_fraction                   0\n",
              "landcover_water_permanent_10km_fraction    0\n",
              "landcover_water_seasonal_10km_fraction     0\n",
              "nighttime_lights                           0\n",
              "dist_to_capital                            0\n",
              "dist_to_shoreline                          0\n",
              "Target                                     0\n",
              "dtype: int64"
            ]
          },
          "metadata": {},
          "execution_count": 7
        }
      ]
    },
    {
      "cell_type": "code",
      "source": [
        "#checking for null values in the training sets\n",
        "test.isnull().sum()"
      ],
      "metadata": {
        "colab": {
          "base_uri": "https://localhost:8080/"
        },
        "id": "ekwZ9lZ5J00T",
        "outputId": "6ef2d54a-e929-4368-b13d-08b7143fb160"
      },
      "execution_count": 8,
      "outputs": [
        {
          "output_type": "execute_result",
          "data": {
            "text/plain": [
              "ID                                         0\n",
              "country                                    0\n",
              "year                                       0\n",
              "urban_or_rural                             0\n",
              "ghsl_water_surface                         0\n",
              "ghsl_built_pre_1975                        0\n",
              "ghsl_built_1975_to_1990                    0\n",
              "ghsl_built_1990_to_2000                    0\n",
              "ghsl_built_2000_to_2014                    0\n",
              "ghsl_not_built_up                          0\n",
              "ghsl_pop_density                           0\n",
              "landcover_crops_fraction                   0\n",
              "landcover_urban_fraction                   0\n",
              "landcover_water_permanent_10km_fraction    0\n",
              "landcover_water_seasonal_10km_fraction     0\n",
              "nighttime_lights                           0\n",
              "dist_to_capital                            0\n",
              "dist_to_shoreline                          0\n",
              "dtype: int64"
            ]
          },
          "metadata": {},
          "execution_count": 8
        }
      ]
    },
    {
      "cell_type": "markdown",
      "source": [
        "SO THERE ARE NO ANY MISSING VALUES FROM OUR DATASETS, Almost our data sets looks some how very clear"
      ],
      "metadata": {
        "id": "QO2YtnG1J8fJ"
      }
    },
    {
      "cell_type": "markdown",
      "source": [
        "# EDA"
      ],
      "metadata": {
        "id": "CfxB5jnVISG_"
      }
    },
    {
      "cell_type": "code",
      "source": [
        "#Checking the correlation between dependent and independent features\n",
        "sns.set(rc = {'figure.figsize':(15,8)})\n",
        "ax=sns.heatmap(train.corr())"
      ],
      "metadata": {
        "colab": {
          "base_uri": "https://localhost:8080/",
          "height": 723
        },
        "id": "TrzRkglBIVrz",
        "outputId": "0e651a9c-6918-49bd-d16d-0cfda180b9c7"
      },
      "execution_count": 9,
      "outputs": [
        {
          "output_type": "display_data",
          "data": {
            "text/plain": [
              "<Figure size 1080x576 with 2 Axes>"
            ],
            "image/png": "[encoded data removed]"
          },
          "metadata": {}
        }
      ]
    },
    {
      "cell_type": "code",
      "source": [
        "#checking the distribution of the categorical feature\n",
        "sns.barplot(x='urban_or_rural',y='Target',data=train)"
      ],
      "metadata": {
        "colab": {
          "base_uri": "https://localhost:8080/",
          "height": 519
        },
        "id": "1H39TAZdKkGT",
        "outputId": "0ef131a5-0f9a-45d1-aea9-abdeffdeca0a"
      },
      "execution_count": 14,
      "outputs": [
        {
          "output_type": "execute_result",
          "data": {
            "text/plain": [
              "<matplotlib.axes._subplots.AxesSubplot at 0x7ff2a91fe4d0>"
            ]
          },
          "metadata": {},
          "execution_count": 14
        },
        {
          "output_type": "display_data",
          "data": {
            "text/plain": [
              "<Figure size 1080x576 with 1 Axes>"
            ],
            "image/png": "[encoded data removed]"
          },
          "metadata": {}
        }
      ]
    },
    {
      "cell_type": "markdown",
      "source": [
        "From above we can interplet that most of peoples where leaving in urban area than rural areas"
      ],
      "metadata": {
        "id": "6JRgRmHaLpZm"
      }
    },
    {
      "cell_type": "markdown",
      "source": [
        "# Preparing the datasets\n",
        " From above analysis now we are going to prepare the datasets so as so fit into our model"
      ],
      "metadata": {
        "id": "GBjK2GPCMa6D"
      }
    },
    {
      "cell_type": "code",
      "source": [
        "def get_processed_data() :\n",
        "\n",
        "    #LOADING THE DATA SETS\n",
        "    train = pd.read_csv('drive/MyDrive/MACHINE LEARNING PROJECTS/economic-well-being-prediction-competition/Train.csv')\n",
        "    test  = pd.read_csv('drive/MyDrive/MACHINE LEARNING PROJECTS/economic-well-being-prediction-competition/Test.csv')\n",
        "\n",
        "    #COMBINE THE TO DATASETS\n",
        "\n",
        "    data = pd.concat([train, test]).reset_index(drop=True)\n",
        "\n",
        "    #definign categorical features\n",
        "    col = ['country', 'year', 'urban_or_rural']\n",
        "    \n",
        "    ## Count of unique features\n",
        "    for i in col:\n",
        "        data['count_'+i] = data[i].map(data[i].value_counts())\n",
        "        \n",
        "    ## FEATURE ENGINEERING\n",
        "    data['all_ghsl'] = data['ghsl_built_1975_to_1990']+data['ghsl_built_pre_1975']+data['ghsl_built_1990_to_2000']+data['ghsl_built_2000_to_2014']\n",
        "    data['all_landcover_fraction'] = data['landcover_crops_fraction']+data['landcover_urban_fraction']\n",
        "    data['all_waters'] = data['landcover_water_permanent_10km_fraction'] + data['landcover_water_seasonal_10km_fraction']\n",
        "    \n",
        "    # GET train , test\n",
        "    train = data[data['ID'].isin(train['ID'].values)]\n",
        "    test = data[~data['ID'].isin(train['ID'].values)]\n",
        "    features = [x for x in train.columns if x not in \n",
        "                ['ID','country','urban_or_rural','Target','year']]\n",
        "    return train , test , features"
      ],
      "metadata": {
        "id": "5wpma72PPf0m"
      },
      "execution_count": null,
      "outputs": []
    },
    {
      "cell_type": "code",
      "source": [
        "train , test , features = get_processed_data()"
      ],
      "metadata": {
        "id": "qlMZHIXrQwNt"
      },
      "execution_count": null,
      "outputs": []
    },
    {
      "cell_type": "markdown",
      "source": [
        "# Definig the model\n",
        " So we will use a RandomForestRegressor"
      ],
      "metadata": {
        "id": "TM1p30E2M8fN"
      }
    },
    {
      "cell_type": "code",
      "source": [
        "from sklearn.ensemble import RandomForestRegressor\n",
        "def get_model(Name='lgbm') :\n",
        "    if Name=='lgbm' :\n",
        "      return RandomForestRegressor(random_state=42)"
      ],
      "metadata": {
        "id": "Rv6enYaQQ0Fz"
      },
      "execution_count": null,
      "outputs": []
    },
    {
      "cell_type": "markdown",
      "source": [
        "# Fitting and generating predictions"
      ],
      "metadata": {
        "id": "_iMzlILmNHpR"
      }
    },
    {
      "cell_type": "code",
      "source": [
        "from sklearn.preprocessing import RobustScaler\n",
        "\n",
        "#rf=RandomForestRegressor(random_state=42)\n",
        "#Rb=RobustScaler()\n",
        "Model_Name = \"lgbm\"\n",
        "\n",
        "X = train[features]\n",
        "y = train['Target']\n",
        "test_ = test[features]\n",
        "#X_scaled=Rb.fit_transform(X)\n",
        "#test_scaled=Rb.fit_transform(test_)\n",
        "\n",
        "\n",
        "folds = KFold(n_splits=10, shuffle=True, random_state=2021)\n",
        "oofs  = np.zeros((len(X)))\n",
        "test_predictions = np.zeros((len(test)))\n",
        "\n",
        "\n",
        "for fold_, (trn_idx, val_idx) in enumerate(folds.split(X, y)):\n",
        "    \n",
        "    X_trn, y_trn = X.iloc[trn_idx], y.iloc[trn_idx]\n",
        "    X_val, y_val = X.iloc[val_idx], y.iloc[val_idx]\n",
        "    \n",
        "\n",
        "    clf = get_model(Name=Model_Name)\n",
        "    clf.fit(X_trn, y_trn\n",
        "             )\n",
        "    \n",
        "    vp = clf.predict(X_val)\n",
        "    oofs[val_idx] = vp\n",
        "    val_score = mean_squared_error((vp), (y_val),squared=False)\n",
        "    print(4*'-- -- -- --')\n",
        "    print(f'Fold {fold_+1} Val score: {val_score}')\n",
        "    print(4*'-- -- -- --')\n",
        "    \n",
        "    tp = clf.predict(test_)\n",
        "    test_predictions += tp / folds.n_splits\n",
        "    print()\n",
        "print(3*'###',10*\"^\",3*'###')\n",
        "print(mean_squared_error(y, oofs,squared=False))"
      ],
      "metadata": {
        "colab": {
          "base_uri": "https://localhost:8080/"
        },
        "id": "WUPadJA6Q3h4",
        "outputId": "976e1828-3d1f-49ef-bc63-80692756b1df"
      },
      "execution_count": null,
      "outputs": [
        {
          "output_type": "stream",
          "name": "stdout",
          "text": [
            "-- -- -- ---- -- -- ---- -- -- ---- -- -- --\n",
            "Fold 1 Val score: 0.08964584115076062\n",
            "-- -- -- ---- -- -- ---- -- -- ---- -- -- --\n",
            "\n",
            "-- -- -- ---- -- -- ---- -- -- ---- -- -- --\n",
            "Fold 2 Val score: 0.0933429549869158\n",
            "-- -- -- ---- -- -- ---- -- -- ---- -- -- --\n",
            "\n",
            "-- -- -- ---- -- -- ---- -- -- ---- -- -- --\n",
            "Fold 3 Val score: 0.08531459750598601\n",
            "-- -- -- ---- -- -- ---- -- -- ---- -- -- --\n",
            "\n",
            "-- -- -- ---- -- -- ---- -- -- ---- -- -- --\n",
            "Fold 4 Val score: 0.08837868521185407\n",
            "-- -- -- ---- -- -- ---- -- -- ---- -- -- --\n",
            "\n",
            "-- -- -- ---- -- -- ---- -- -- ---- -- -- --\n",
            "Fold 5 Val score: 0.08770568062285788\n",
            "-- -- -- ---- -- -- ---- -- -- ---- -- -- --\n",
            "\n",
            "-- -- -- ---- -- -- ---- -- -- ---- -- -- --\n",
            "Fold 6 Val score: 0.08870946715268349\n",
            "-- -- -- ---- -- -- ---- -- -- ---- -- -- --\n",
            "\n",
            "-- -- -- ---- -- -- ---- -- -- ---- -- -- --\n",
            "Fold 7 Val score: 0.09110344019158777\n",
            "-- -- -- ---- -- -- ---- -- -- ---- -- -- --\n",
            "\n",
            "-- -- -- ---- -- -- ---- -- -- ---- -- -- --\n",
            "Fold 8 Val score: 0.0888888180447021\n",
            "-- -- -- ---- -- -- ---- -- -- ---- -- -- --\n",
            "\n",
            "-- -- -- ---- -- -- ---- -- -- ---- -- -- --\n",
            "Fold 9 Val score: 0.08772061489463895\n",
            "-- -- -- ---- -- -- ---- -- -- ---- -- -- --\n",
            "\n",
            "-- -- -- ---- -- -- ---- -- -- ---- -- -- --\n",
            "Fold 10 Val score: 0.08836161679021129\n",
            "-- -- -- ---- -- -- ---- -- -- ---- -- -- --\n",
            "\n",
            "######### ^^^^^^^^^^ #########\n",
            "0.08894051092332263\n"
          ]
        }
      ]
    },
    {
      "cell_type": "code",
      "source": [
        "submission.to_csv('drive/MyDrive/MACHINE LEARNING PROJECTS/economic-well-being-prediction-competition/7th_submission.csv', index=False)"
      ],
      "metadata": {
        "id": "4Ovox4ivRSyM"
      },
      "execution_count": null,
      "outputs": []
    },
    {
      "cell_type": "code",
      "source": [
        "submission = pd.DataFrame()\n",
        "submission['ID'] = test['ID']\n",
        "submission['Target'] = np.clip(test_predictions, 0.141000, 0.808657)"
      ],
      "metadata": {
        "id": "4_bPGPodRMFN"
      },
      "execution_count": null,
      "outputs": []
    }
  ]
}